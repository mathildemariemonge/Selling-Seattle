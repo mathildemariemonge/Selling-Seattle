{
 "cells": [
  {
   "cell_type": "code",
   "execution_count": 1,
   "id": "56e587f1",
   "metadata": {},
   "outputs": [],
   "source": [
    "import numpy as np\n",
    "import pandas as pd\n",
    "import matplotlib.pyplot as plt\n",
    "%matplotlib inline\n",
    "import seaborn as sns\n",
    "from sklearn.preprocessing import PowerTransformer\n",
    "from sklearn.compose import ColumnTransformer\n",
    "from sklearn.linear_model import LinearRegression\n",
    "from sklearn.model_selection import train_test_split\n",
    "\n",
    "import statsmodels.api as sm\n",
    "from sklearn.metrics import r2_score\n",
    "from sklearn.metrics import mean_squared_error as mse\n",
    "from sklearn.metrics import mean_absolute_error as mae\n",
    "pd.options.display.max_rows = 50\n",
    "## Install xlrd package to load Excel files\n",
    "# conda install openpyxl\n",
    "## conda install xlrd"
   ]
  },
  {
   "cell_type": "code",
   "execution_count": 2,
   "id": "bde50326",
   "metadata": {},
   "outputs": [],
   "source": [
    "RAND_STATE = 34 # for reproducible shuffling\n",
    "TT_RATIO = 0.3 # test/train"
   ]
  },
  {
   "cell_type": "code",
   "execution_count": 4,
   "id": "92bab760",
   "metadata": {},
   "outputs": [
    {
     "data": {
      "text/html": [
       "<div>\n",
       "<style scoped>\n",
       "    .dataframe tbody tr th:only-of-type {\n",
       "        vertical-align: middle;\n",
       "    }\n",
       "\n",
       "    .dataframe tbody tr th {\n",
       "        vertical-align: top;\n",
       "    }\n",
       "\n",
       "    .dataframe thead th {\n",
       "        text-align: right;\n",
       "    }\n",
       "</style>\n",
       "<table border=\"1\" class=\"dataframe\">\n",
       "  <thead>\n",
       "    <tr style=\"text-align: right;\">\n",
       "      <th></th>\n",
       "      <th>Date</th>\n",
       "      <th>N1</th>\n",
       "      <th>N2</th>\n",
       "      <th>N3</th>\n",
       "      <th>N4</th>\n",
       "      <th>N5</th>\n",
       "      <th>E1</th>\n",
       "      <th>E2</th>\n",
       "      <th>Winner</th>\n",
       "      <th>Gain</th>\n",
       "    </tr>\n",
       "  </thead>\n",
       "  <tbody>\n",
       "    <tr>\n",
       "      <th>0</th>\n",
       "      <td>24/12/2004</td>\n",
       "      <td>3</td>\n",
       "      <td>27</td>\n",
       "      <td>29</td>\n",
       "      <td>4</td>\n",
       "      <td>37</td>\n",
       "      <td>6</td>\n",
       "      <td>5</td>\n",
       "      <td>1</td>\n",
       "      <td>10000000</td>\n",
       "    </tr>\n",
       "    <tr>\n",
       "      <th>1</th>\n",
       "      <td>17/12/2004</td>\n",
       "      <td>49</td>\n",
       "      <td>22</td>\n",
       "      <td>19</td>\n",
       "      <td>15</td>\n",
       "      <td>46</td>\n",
       "      <td>9</td>\n",
       "      <td>2</td>\n",
       "      <td>1</td>\n",
       "      <td>26215627</td>\n",
       "    </tr>\n",
       "    <tr>\n",
       "      <th>2</th>\n",
       "      <td>26/11/2004</td>\n",
       "      <td>24</td>\n",
       "      <td>1</td>\n",
       "      <td>34</td>\n",
       "      <td>4</td>\n",
       "      <td>36</td>\n",
       "      <td>8</td>\n",
       "      <td>6</td>\n",
       "      <td>1</td>\n",
       "      <td>43756502</td>\n",
       "    </tr>\n",
       "    <tr>\n",
       "      <th>3</th>\n",
       "      <td>22/10/2004</td>\n",
       "      <td>9</td>\n",
       "      <td>25</td>\n",
       "      <td>1</td>\n",
       "      <td>40</td>\n",
       "      <td>23</td>\n",
       "      <td>3</td>\n",
       "      <td>9</td>\n",
       "      <td>1</td>\n",
       "      <td>25059130</td>\n",
       "    </tr>\n",
       "    <tr>\n",
       "      <th>4</th>\n",
       "      <td>10/01/2004</td>\n",
       "      <td>48</td>\n",
       "      <td>20</td>\n",
       "      <td>45</td>\n",
       "      <td>21</td>\n",
       "      <td>12</td>\n",
       "      <td>6</td>\n",
       "      <td>5</td>\n",
       "      <td>1</td>\n",
       "      <td>29785269</td>\n",
       "    </tr>\n",
       "    <tr>\n",
       "      <th>...</th>\n",
       "      <td>...</td>\n",
       "      <td>...</td>\n",
       "      <td>...</td>\n",
       "      <td>...</td>\n",
       "      <td>...</td>\n",
       "      <td>...</td>\n",
       "      <td>...</td>\n",
       "      <td>...</td>\n",
       "      <td>...</td>\n",
       "      <td>...</td>\n",
       "    </tr>\n",
       "    <tr>\n",
       "      <th>1313</th>\n",
       "      <td>15/01/2021</td>\n",
       "      <td>4</td>\n",
       "      <td>10</td>\n",
       "      <td>27</td>\n",
       "      <td>38</td>\n",
       "      <td>40</td>\n",
       "      <td>3</td>\n",
       "      <td>11</td>\n",
       "      <td>0</td>\n",
       "      <td>56331898</td>\n",
       "    </tr>\n",
       "    <tr>\n",
       "      <th>1314</th>\n",
       "      <td>01/12/2021</td>\n",
       "      <td>2</td>\n",
       "      <td>10</td>\n",
       "      <td>18</td>\n",
       "      <td>34</td>\n",
       "      <td>35</td>\n",
       "      <td>6</td>\n",
       "      <td>9</td>\n",
       "      <td>0</td>\n",
       "      <td>41607178</td>\n",
       "    </tr>\n",
       "    <tr>\n",
       "      <th>1315</th>\n",
       "      <td>01/08/2021</td>\n",
       "      <td>18</td>\n",
       "      <td>23</td>\n",
       "      <td>37</td>\n",
       "      <td>41</td>\n",
       "      <td>42</td>\n",
       "      <td>4</td>\n",
       "      <td>6</td>\n",
       "      <td>0</td>\n",
       "      <td>30824040</td>\n",
       "    </tr>\n",
       "    <tr>\n",
       "      <th>1316</th>\n",
       "      <td>01/05/2021</td>\n",
       "      <td>12</td>\n",
       "      <td>34</td>\n",
       "      <td>37</td>\n",
       "      <td>38</td>\n",
       "      <td>42</td>\n",
       "      <td>1</td>\n",
       "      <td>3</td>\n",
       "      <td>0</td>\n",
       "      <td>17000000</td>\n",
       "    </tr>\n",
       "    <tr>\n",
       "      <th>1317</th>\n",
       "      <td>01/01/2021</td>\n",
       "      <td>16</td>\n",
       "      <td>28</td>\n",
       "      <td>32</td>\n",
       "      <td>44</td>\n",
       "      <td>48</td>\n",
       "      <td>1</td>\n",
       "      <td>9</td>\n",
       "      <td>1</td>\n",
       "      <td>44958140</td>\n",
       "    </tr>\n",
       "  </tbody>\n",
       "</table>\n",
       "<p>1318 rows × 10 columns</p>\n",
       "</div>"
      ],
      "text/plain": [
       "            Date  N1  N2  N3  N4  N5  E1  E2  Winner      Gain\n",
       "0     24/12/2004   3  27  29   4  37   6   5       1  10000000\n",
       "1     17/12/2004  49  22  19  15  46   9   2       1  26215627\n",
       "2     26/11/2004  24   1  34   4  36   8   6       1  43756502\n",
       "3     22/10/2004   9  25   1  40  23   3   9       1  25059130\n",
       "4     10/01/2004  48  20  45  21  12   6   5       1  29785269\n",
       "...          ...  ..  ..  ..  ..  ..  ..  ..     ...       ...\n",
       "1313  15/01/2021   4  10  27  38  40   3  11       0  56331898\n",
       "1314  01/12/2021   2  10  18  34  35   6   9       0  41607178\n",
       "1315  01/08/2021  18  23  37  41  42   4   6       0  30824040\n",
       "1316  01/05/2021  12  34  37  38  42   1   3       0  17000000\n",
       "1317  01/01/2021  16  28  32  44  48   1   9       1  44958140\n",
       "\n",
       "[1318 rows x 10 columns]"
      ]
     },
     "execution_count": 4,
     "metadata": {},
     "output_type": "execute_result"
    }
   ],
   "source": [
    "df= pd.read_csv(\"EuroMillions_numbers.csv\")\n",
    "df"
   ]
  },
  {
   "cell_type": "code",
   "execution_count": 5,
   "id": "90971525",
   "metadata": {},
   "outputs": [
    {
     "data": {
      "image/png": "[encoded data removed]",
      "text/plain": [
       "<Figure size 1600x1400 with 2 Axes>"
      ]
     },
     "metadata": {},
     "output_type": "display_data"
    }
   ],
   "source": [
    "corr = df.corr()\n",
    "mask = np.zeros_like(corr)\n",
    "mask[np.triu_indices_from(mask)] = True # trick to filter out the upper-right triangle, which is redundant due to symmetry\n",
    "with sns.axes_style(\"white\"):\n",
    "    f, ax = plt.subplots(figsize=(16, 14))\n",
    "    ax = sns.heatmap(corr, mask=mask,cmap='coolwarm', vmin=-1,vmax=1,annot=True, square=True)"
   ]
  },
  {
   "cell_type": "code",
   "execution_count": 7,
   "id": "1ed641d2",
   "metadata": {},
   "outputs": [
    {
     "data": {
      "text/plain": [
       "Index(['Date', 'N1', 'N2', 'N3', 'N4', 'N5', 'E1', 'E2', 'Winner', 'Gain'], dtype='object')"
      ]
     },
     "execution_count": 7,
     "metadata": {},
     "output_type": "execute_result"
    }
   ],
   "source": [
    "CORR_THRESH = 0.80\n",
    "corr_matrix=df.corr().abs()  #abs stands for absolute\n",
    "upper_triangle=corr_matrix.where(np.triu(np.ones(corr_matrix.shape),k=1).astype(bool))\n",
    "corrd_cols = [column for column in upper_triangle.columns if any(upper_triangle[column] > CORR_THRESH)]\n",
    "df.drop(corrd_cols,axis=1,inplace=True)\n",
    "df.columns"
   ]
  },
  {
   "cell_type": "code",
   "execution_count": 8,
   "id": "5645fc6e",
   "metadata": {},
   "outputs": [
    {
     "name": "stdout",
     "output_type": "stream",
     "text": [
      "1\n"
     ]
    }
   ],
   "source": [
    "import pandas as pd\n",
    "\n",
    "\n",
    "value_counts = df['N1'].value_counts()\n",
    "\n",
    "# Retrieve the value with the highest count\n",
    "most_frequent_value = value_counts.idxmax()\n",
    "\n",
    "print(most_frequent_value)\n"
   ]
  },
  {
   "cell_type": "code",
   "execution_count": 9,
   "id": "7cdb8a6a",
   "metadata": {},
   "outputs": [
    {
     "name": "stdout",
     "output_type": "stream",
     "text": [
      "10\n"
     ]
    }
   ],
   "source": [
    "value_counts = df['N2'].value_counts()\n",
    "\n",
    "# Retrieve the value with the highest count\n",
    "most_frequent_value = value_counts.idxmax()\n",
    "\n",
    "print(most_frequent_value)\n"
   ]
  },
  {
   "cell_type": "code",
   "execution_count": 10,
   "id": "6116e02b",
   "metadata": {},
   "outputs": [
    {
     "name": "stdout",
     "output_type": "stream",
     "text": [
      "27\n"
     ]
    }
   ],
   "source": [
    "value_counts = df['N3'].value_counts()\n",
    "\n",
    "# Retrieve the value with the highest count\n",
    "most_frequent_value = value_counts.idxmax()\n",
    "\n",
    "print(most_frequent_value)\n"
   ]
  },
  {
   "cell_type": "code",
   "execution_count": 11,
   "id": "b8948a5d",
   "metadata": {},
   "outputs": [
    {
     "name": "stdout",
     "output_type": "stream",
     "text": [
      "38\n"
     ]
    }
   ],
   "source": [
    "value_counts = df['N4'].value_counts()\n",
    "\n",
    "# Retrieve the value with the highest count\n",
    "most_frequent_value = value_counts.idxmax()\n",
    "\n",
    "print(most_frequent_value)\n"
   ]
  },
  {
   "cell_type": "code",
   "execution_count": 12,
   "id": "eeb90cdd",
   "metadata": {},
   "outputs": [
    {
     "name": "stdout",
     "output_type": "stream",
     "text": [
      "49\n"
     ]
    }
   ],
   "source": [
    "value_counts = df['N5'].value_counts()\n",
    "\n",
    "# Retrieve the value with the highest count\n",
    "most_frequent_value = value_counts.idxmax()\n",
    "\n",
    "print(most_frequent_value)\n"
   ]
  },
  {
   "cell_type": "code",
   "execution_count": 13,
   "id": "f45114fc",
   "metadata": {},
   "outputs": [
    {
     "name": "stdout",
     "output_type": "stream",
     "text": [
      "2\n"
     ]
    }
   ],
   "source": [
    "value_counts = df['E1'].value_counts()\n",
    "\n",
    "# Retrieve the value with the highest count\n",
    "most_frequent_value = value_counts.idxmax()\n",
    "\n",
    "print(most_frequent_value)\n"
   ]
  },
  {
   "cell_type": "code",
   "execution_count": 14,
   "id": "a530bed0",
   "metadata": {},
   "outputs": [
    {
     "name": "stdout",
     "output_type": "stream",
     "text": [
      "8\n"
     ]
    }
   ],
   "source": [
    "value_counts = df['E2'].value_counts()\n",
    "\n",
    "# Retrieve the value with the highest count\n",
    "most_frequent_value = value_counts.idxmax()\n",
    "\n",
    "print(most_frequent_value)\n"
   ]
  },
  {
   "cell_type": "code",
   "execution_count": 15,
   "id": "32c1cfae",
   "metadata": {},
   "outputs": [
    {
     "name": "stdout",
     "output_type": "stream",
     "text": [
      "48\n"
     ]
    }
   ],
   "source": [
    "value_counts = df['N1'].value_counts()\n",
    "\n",
    "# Retrieve the value with the highest count\n",
    "least_frequent_value = value_counts.idxmin()\n",
    "\n",
    "print(least_frequent_value)\n"
   ]
  },
  {
   "cell_type": "code",
   "execution_count": 16,
   "id": "8c22c5fc",
   "metadata": {},
   "outputs": [
    {
     "name": "stdout",
     "output_type": "stream",
     "text": [
      "46\n"
     ]
    }
   ],
   "source": [
    "value_counts = df['N2'].value_counts()\n",
    "\n",
    "# Retrieve the value with the highest count\n",
    "least_frequent_value = value_counts.idxmin()\n",
    "\n",
    "print(least_frequent_value)"
   ]
  },
  {
   "cell_type": "code",
   "execution_count": 17,
   "id": "17ff873a",
   "metadata": {},
   "outputs": [
    {
     "name": "stdout",
     "output_type": "stream",
     "text": [
      "46\n"
     ]
    }
   ],
   "source": [
    "value_counts = df['N3'].value_counts()\n",
    "\n",
    "# Retrieve the value with the highest count\n",
    "least_frequent_value = value_counts.idxmin()\n",
    "\n",
    "print(least_frequent_value)"
   ]
  },
  {
   "cell_type": "code",
   "execution_count": 18,
   "id": "7cb1f27f",
   "metadata": {},
   "outputs": [
    {
     "name": "stdout",
     "output_type": "stream",
     "text": [
      "18\n"
     ]
    }
   ],
   "source": [
    "value_counts = df['N4'].value_counts()\n",
    "\n",
    "# Retrieve the value with the highest count\n",
    "least_frequent_value = value_counts.idxmin()\n",
    "\n",
    "print(least_frequent_value)"
   ]
  },
  {
   "cell_type": "code",
   "execution_count": 19,
   "id": "9b908edb",
   "metadata": {},
   "outputs": [
    {
     "name": "stdout",
     "output_type": "stream",
     "text": [
      "22\n"
     ]
    }
   ],
   "source": [
    "value_counts = df['N5'].value_counts()\n",
    "\n",
    "# Retrieve the value with the highest count\n",
    "least_frequent_value = value_counts.idxmin()\n",
    "\n",
    "print(least_frequent_value)"
   ]
  },
  {
   "cell_type": "code",
   "execution_count": 20,
   "id": "5d54005b",
   "metadata": {},
   "outputs": [
    {
     "name": "stdout",
     "output_type": "stream",
     "text": [
      "12\n"
     ]
    }
   ],
   "source": [
    "value_counts = df['E1'].value_counts()\n",
    "\n",
    "# Retrieve the value with the highest count\n",
    "least_frequent_value = value_counts.idxmin()\n",
    "\n",
    "print(least_frequent_value)"
   ]
  },
  {
   "cell_type": "code",
   "execution_count": 22,
   "id": "5b5789fd",
   "metadata": {},
   "outputs": [
    {
     "name": "stdout",
     "output_type": "stream",
     "text": [
      "12\n"
     ]
    }
   ],
   "source": [
    "value_counts = df['E2'].value_counts()\n",
    "\n",
    "# Retrieve the value with the highest count\n",
    "least_frequent_value = value_counts.idxmin()\n",
    "\n",
    "print(least_frequent_value)"
   ]
  },
  {
   "cell_type": "code",
   "execution_count": 25,
   "id": "ee91d547",
   "metadata": {},
   "outputs": [],
   "source": [
    "max_com = {'N1': 1, 'N2' : 10, 'N3' : 27, 'N4' : 38, 'N5' : 49, 'E1' : 2, 'E2' : 8}"
   ]
  },
  {
   "cell_type": "code",
   "execution_count": 28,
   "id": "48b2fd20",
   "metadata": {},
   "outputs": [],
   "source": [
    "min_com = {'a1' : 48, 'a2' : 46, 'a3' : 46, 'a4' : 18, 'a5' : 22, 'b1' : 12, 'b2' : 12}"
   ]
  },
  {
   "cell_type": "code",
   "execution_count": 29,
   "id": "6bf7f455",
   "metadata": {},
   "outputs": [
    {
     "name": "stdout",
     "output_type": "stream",
     "text": [
      "{'N1': 48, 'N2': 46, 'N3': 46, 'N4': 18, 'N5': 22, 'E1': 12, 'E2': 12, 'a1': 48, 'a2': 46, 'a3': 46, 'a4': 18, 'a5': 22, 'b1': 12, 'b2': 12}\n"
     ]
    }
   ],
   "source": [
    "# Define two dictionaries\n",
    "\n",
    "# Concatenate the two dictionaries\n",
    "max_com.update(min_com)\n",
    "\n",
    "# Print the concatenated dictionary\n",
    "print(max_com)"
   ]
  },
  {
   "cell_type": "code",
   "execution_count": null,
   "id": "f8cc8f7d",
   "metadata": {},
   "outputs": [],
   "source": [
    "random = {'r1': randomchoice.n1, 'r2' : 10, 'r3' : 27, 'r4' : 38, 'r5' : 49, 's1' : 2, 's2' : 8}"
   ]
  },
  {
   "cell_type": "code",
   "execution_count": null,
   "id": "e0aac3d4",
   "metadata": {},
   "outputs": [],
   "source": [
    "winning = {'w1': randomchoice(max_com 1, min_com 1, random 1, 'w2' : 10, 'r3' : 27, 'r4' : 38, 'r5' : 49, 's1' : 2, 's2' : 8}"
   ]
  },
  {
   "cell_type": "code",
   "execution_count": null,
   "id": "1d6e575a",
   "metadata": {},
   "outputs": [],
   "source": []
  }
 ],
 "metadata": {
  "kernelspec": {
   "display_name": "Python 3 (ipykernel)",
   "language": "python",
   "name": "python3"
  },
  "language_info": {
   "codemirror_mode": {
    "name": "ipython",
    "version": 3
   },
   "file_extension": ".py",
   "mimetype": "text/x-python",
   "name": "python",
   "nbconvert_exporter": "python",
   "pygments_lexer": "ipython3",
   "version": "3.9.13"
  }
 },
 "nbformat": 4,
 "nbformat_minor": 5
}
